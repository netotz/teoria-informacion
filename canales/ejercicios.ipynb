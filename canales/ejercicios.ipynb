{
 "metadata": {
  "language_info": {
   "codemirror_mode": {
    "name": "ipython",
    "version": 3
   },
   "file_extension": ".py",
   "mimetype": "text/x-python",
   "name": "python",
   "nbconvert_exporter": "python",
   "pygments_lexer": "ipython3",
   "version": "3.8.8"
  },
  "orig_nbformat": 2,
  "kernelspec": {
   "name": "python3",
   "display_name": "Python 3.8.8 64-bit",
   "metadata": {
    "interpreter": {
     "hash": "26261d6663085c58a05028b261ddcaf6e8498ee173f6cf308ab2fece185123cf"
    }
   }
  }
 },
 "nbformat": 4,
 "nbformat_minor": 2,
 "cells": [
  {
   "source": [
    "# Ejercicios de canales de comunicación\n",
    "\n",
    "## Ejercicio 1\n",
    "\n",
    "La fuente de entrada a un canal de comunicación ruidoso es una variable aleatoria $X$ que contiene los símbolos $\\{a, b, c, d\\}$. La salida de este canal es una variable aleatoria $Y$ sobre estos mismos cuatro símbolos. La distribución conjunta de estas dos variables aleatorias es la siguiente:\n",
    "\n",
    "![a](1_distribuciones.png)"
   ],
   "cell_type": "markdown",
   "metadata": {}
  },
  {
   "source": [
    "Para hacer más sencillos los cálculos, se le aplicará una transposición a la matriz para que las distribuciones de $X$ queden como filas y las de $Y$ como columnas:"
   ],
   "cell_type": "markdown",
   "metadata": {}
  },
  {
   "cell_type": "code",
   "execution_count": 1,
   "metadata": {},
   "outputs": [
    {
     "output_type": "execute_result",
     "data": {
      "text/plain": [
       "array([[0.125  , 0.0625 , 0.03125, 0.03125],\n",
       "       [0.0625 , 0.125  , 0.03125, 0.03125],\n",
       "       [0.0625 , 0.0625 , 0.0625 , 0.0625 ],\n",
       "       [0.25   , 0.     , 0.     , 0.     ]])"
      ]
     },
     "metadata": {},
     "execution_count": 1
    }
   ],
   "source": [
    "symbols = ('a', 'b', 'c', 'd')\n",
    "\n",
    "import numpy as np\n",
    "\n",
    "matrix = np.array([\n",
    "    [1/8, 1/16, 1/16, 1/4],\n",
    "    [1/16, 1/8, 1/16, 0],\n",
    "    [1/32, 1/32, 1/16, 0],\n",
    "    [1/32, 1/32, 1/16, 0]    \n",
    "])\n",
    "joint_distribution = matrix.transpose()\n",
    "joint_distribution"
   ]
  },
  {
   "source": [
    "Para calcular la información mutua (en bits) de ambas variables aleatorias usaremos la siguiente fórmula, la cual toma en cuenta las distribuciones marginales de cada variable aleatoria y las conjuntas de ambas:"
   ],
   "cell_type": "markdown",
   "metadata": {}
  },
  {
   "source": [
    "$$\n",
    "I(X;Y) = \\sum_{x \\in X}{ \\sum_{y \\in Y}{\n",
    "    p(x,y) \\log_{2}{ \\frac{ p(x,y) }{ p(x)p(y) }}\n",
    "}}\n",
    "$$"
   ],
   "cell_type": "markdown",
   "metadata": {}
  },
  {
   "source": [
    "La distribución marginal de $X$, $p(X)$ es:"
   ],
   "cell_type": "markdown",
   "metadata": {}
  },
  {
   "cell_type": "code",
   "execution_count": 2,
   "metadata": {},
   "outputs": [
    {
     "output_type": "execute_result",
     "data": {
      "text/plain": [
       "'p(X) = [0.25, 0.25, 0.25, 0.25]'"
      ]
     },
     "metadata": {},
     "execution_count": 2
    }
   ],
   "source": [
    "def get_x_marginal(joint_distribution):\n",
    "    # sumar toda la fila\n",
    "    return [sum(x) for x in joint_distribution]\n",
    "\n",
    "x_marginal = get_x_marginal(joint_distribution)\n",
    "f'p(X) = {x_marginal}'"
   ]
  },
  {
   "source": [
    "La distribución marginal de $Y$, $p(Y)$ es:"
   ],
   "cell_type": "markdown",
   "metadata": {}
  },
  {
   "cell_type": "code",
   "execution_count": 3,
   "metadata": {},
   "outputs": [
    {
     "output_type": "execute_result",
     "data": {
      "text/plain": [
       "'p(Y) = [0.5, 0.25, 0.125, 0.125]'"
      ]
     },
     "metadata": {},
     "execution_count": 3
    }
   ],
   "source": [
    "def get_y_marginal(joint_distribution):\n",
    "    # sumar cada columna\n",
    "    return [sum(x[y] for x in joint_distribution) for y in range(len(joint_distribution))]\n",
    "\n",
    "y_marginal = get_y_marginal(joint_distribution)\n",
    "f'p(Y) = {y_marginal}'"
   ]
  },
  {
   "source": [
    "Ahora pasaremos a codificar una función que nos permita calcular la información mutua a partir de las distribuciones marginales:"
   ],
   "cell_type": "markdown",
   "metadata": {}
  },
  {
   "cell_type": "code",
   "execution_count": 4,
   "metadata": {},
   "outputs": [
    {
     "output_type": "execute_result",
     "data": {
      "text/plain": [
       "'I(X;Y) = 0.375 bits'"
      ]
     },
     "metadata": {},
     "execution_count": 4
    }
   ],
   "source": [
    "from math import log\n",
    "from itertools import chain, cycle\n",
    "\n",
    "def get_mutual_information(joint_distribution, x_marginal, y_marginal, base=2):\n",
    "    return sum(\n",
    "        p_xy * log(p_xy / (p_x * p_y), base)\n",
    "        for p_xy, p_x, p_y in zip(\n",
    "            # aplanar matriz para iterar sobre cada valor\n",
    "            chain.from_iterable(joint_distribution),\n",
    "            # repetir marginales porque no tienen el mismo tamaño que la matriz aplanada\n",
    "            cycle(x_marginal),\n",
    "            cycle(y_marginal)\n",
    "        )\n",
    "        if p_xy > 0\n",
    "    )\n",
    "\n",
    "mutual_info = get_mutual_information(joint_distribution, x_marginal, y_marginal)\n",
    "f'I(X;Y) = {mutual_info} bits'"
   ]
  },
  {
   "source": [
    "## Ejercicio 2\n",
    "\n",
    "Vamos a considerar un canal de comunicación binario simétrico, cuya fuente de entrada es el alfabeto $X = \\{0, 1\\}$ con probabilidades $\\{0.5, 0.5\\}$, cuyo alfabeto de salida es $Y = \\{0, 1\\}$, y cuya matriz de canales es:"
   ],
   "cell_type": "markdown",
   "metadata": {}
  },
  {
   "source": [
    "\\begin{equation}\n",
    "    \\begin{pmatrix}\n",
    "        1 - \\epsilon && \\epsilon \\\\\n",
    "        \\epsilon && 1 - \\epsilon\n",
    "    \\end{pmatrix}\n",
    "\\end{equation}"
   ],
   "cell_type": "markdown",
   "metadata": {}
  },
  {
   "source": [
    "donde $\\epsilon$ es la probabilidad de transmisión de error. Para este caso vamos a suponer que $\\epsilon = 0.35$, por lo que la matriz del canal es:"
   ],
   "cell_type": "markdown",
   "metadata": {}
  },
  {
   "cell_type": "code",
   "execution_count": 5,
   "metadata": {},
   "outputs": [
    {
     "output_type": "execute_result",
     "data": {
      "text/plain": [
       "array([[0.65, 0.35],\n",
       "       [0.35, 0.65]])"
      ]
     },
     "metadata": {},
     "execution_count": 5
    }
   ],
   "source": [
    "error = 0.35\n",
    "channel_matrix = [\n",
    "    [1 - error, error],\n",
    "    [error, 1 - error]\n",
    "]\n",
    "np.array(channel_matrix)"
   ]
  },
  {
   "source": [
    "Y la distribución conjunta, $p(X,Y)$:"
   ],
   "cell_type": "markdown",
   "metadata": {}
  },
  {
   "cell_type": "code",
   "execution_count": 6,
   "metadata": {},
   "outputs": [
    {
     "output_type": "execute_result",
     "data": {
      "text/plain": [
       "array([[0.325, 0.175],\n",
       "       [0.175, 0.325]])"
      ]
     },
     "metadata": {},
     "execution_count": 6
    }
   ],
   "source": [
    "x_probabilities = (0.5, 0.5)\n",
    "joint_distribution = [\n",
    "    [p_x * col for p_x, col in zip(x_probabilities, row)]\n",
    "    for row in channel_matrix\n",
    "]\n",
    "np.array(joint_distribution)"
   ]
  },
  {
   "source": [
    "Finalmente podemos calcular la información mutua del canal, ya que usaremos la fórmula del ejercicio anterior y ya contamos con la distribución conjunta. Debido a que nosotros calculamos $p(X,Y)$, las distribuciones marginales para este caso son las probabilidades dadas por el problema, es decir $\\{0.5, 0.5\\}$:"
   ],
   "cell_type": "markdown",
   "metadata": {}
  },
  {
   "source": [
    "i = get_mutual_information(joint_distribution, x_probabilities, x_probabilities)\n",
    "f'I(X;Y) = {i} bits'"
   ],
   "cell_type": "code",
   "metadata": {},
   "execution_count": 7,
   "outputs": [
    {
     "output_type": "execute_result",
     "data": {
      "text/plain": [
       "'I(X;Y) = 0.06593194462450899 bits'"
      ]
     },
     "metadata": {},
     "execution_count": 7
    }
   ]
  }
 ]
}