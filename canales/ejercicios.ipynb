{
 "metadata": {
  "language_info": {
   "codemirror_mode": {
    "name": "ipython",
    "version": 3
   },
   "file_extension": ".py",
   "mimetype": "text/x-python",
   "name": "python",
   "nbconvert_exporter": "python",
   "pygments_lexer": "ipython3",
   "version": "3.8.8-final"
  },
  "orig_nbformat": 2,
  "kernelspec": {
   "name": "python3",
   "display_name": "Python 3.8.8 64-bit",
   "metadata": {
    "interpreter": {
     "hash": "26261d6663085c58a05028b261ddcaf6e8498ee173f6cf308ab2fece185123cf"
    }
   }
  }
 },
 "nbformat": 4,
 "nbformat_minor": 2,
 "cells": [
  {
   "source": [
    "# Ejercicios de canales de comunicación\n",
    "\n",
    "## Ejemplo 1\n",
    "\n",
    "La fuente de entrada a un canal de comunicación ruidoso es una variable aleatoria $X$ que contiene los símbolos $\\{a, b, c, d\\}$. La salida de este canal es una variable aleatoria $Y$ sobre estos mismos cuatro símbolos. La distribución conjunta de estas dos variables aleatorias es la siguiente:\n",
    "\n",
    "![a](1_distribuciones.png)"
   ],
   "cell_type": "markdown",
   "metadata": {}
  },
  {
   "source": [
    "Para hacer más sencillos los cálculos, se le aplicará una transposición a la matriz para que las distribuciones de $X$ queden como filas y las de $Y$ como columnas:"
   ],
   "cell_type": "markdown",
   "metadata": {}
  },
  {
   "cell_type": "code",
   "execution_count": 40,
   "metadata": {},
   "outputs": [
    {
     "output_type": "execute_result",
     "data": {
      "text/plain": [
       "array([[0.125  , 0.0625 , 0.03125, 0.03125],\n",
       "       [0.0625 , 0.125  , 0.03125, 0.03125],\n",
       "       [0.0625 , 0.0625 , 0.0625 , 0.0625 ],\n",
       "       [0.25   , 0.     , 0.     , 0.     ]])"
      ]
     },
     "metadata": {},
     "execution_count": 40
    }
   ],
   "source": [
    "symbols = ('a', 'b', 'c', 'd')\n",
    "\n",
    "import numpy as np\n",
    "\n",
    "matrix = np.array([\n",
    "    [1/8, 1/16, 1/16, 1/4],\n",
    "    [1/16, 1/8, 1/16, 0],\n",
    "    [1/32, 1/32, 1/16, 0],\n",
    "    [1/32, 1/32, 1/16, 0]    \n",
    "])\n",
    "joint_distribution = matrix.transpose()\n",
    "joint_distribution"
   ]
  },
  {
   "source": [
    "Para calcular la información mutua (en bits) de ambas variables aleatorias usaremos la siguiente fórmula:"
   ],
   "cell_type": "markdown",
   "metadata": {}
  },
  {
   "source": [
    "$$\n",
    "I(X;Y) = \\sum_{x \\in X}{ \\sum_{y \\in Y}{\n",
    "    p(x,y) \\log_{2}{ \\frac{ p(x,y) }{ p(x)p(y) }}\n",
    "}}\n",
    "$$"
   ],
   "cell_type": "markdown",
   "metadata": {}
  },
  {
   "source": [
    "La distribución marginal de $X$ es:"
   ],
   "cell_type": "markdown",
   "metadata": {}
  },
  {
   "cell_type": "code",
   "execution_count": 47,
   "metadata": {},
   "outputs": [
    {
     "output_type": "execute_result",
     "data": {
      "text/plain": [
       "'p(x) = [0.25, 0.25, 0.25, 0.25]'"
      ]
     },
     "metadata": {},
     "execution_count": 47
    }
   ],
   "source": [
    "def get_x_marginal(joint_distribution):\n",
    "    # sumar toda la fila\n",
    "    return [sum(x) for x in joint_distribution]\n",
    "\n",
    "x_marginal = get_x_marginal(joint_distribution)\n",
    "f'p(x) = {x_marginal}'"
   ]
  },
  {
   "source": [
    "La distribución marginal de $Y$ es:"
   ],
   "cell_type": "markdown",
   "metadata": {}
  },
  {
   "cell_type": "code",
   "execution_count": 49,
   "metadata": {},
   "outputs": [
    {
     "output_type": "execute_result",
     "data": {
      "text/plain": [
       "'p(y) = [0.5, 0.25, 0.125, 0.125]'"
      ]
     },
     "metadata": {},
     "execution_count": 49
    }
   ],
   "source": [
    "def get_y_marginal(joint_distribution):\n",
    "    # sumar cada columna\n",
    "    return [sum(x[y] for x in joint_distribution) for y in range(len(symbols))]\n",
    "\n",
    "y_marginal = get_y_marginal(joint_distribution)\n",
    "f'p(y) = {y_marginal}'"
   ]
  },
  {
   "source": [
    "Ahora pasaremos a codificar una función que nos permita calcular la información mutua a partir de las distribuciones marginales:"
   ],
   "cell_type": "markdown",
   "metadata": {}
  },
  {
   "cell_type": "code",
   "execution_count": 50,
   "metadata": {},
   "outputs": [
    {
     "output_type": "execute_result",
     "data": {
      "text/plain": [
       "'I(X;Y) = 0.375'"
      ]
     },
     "metadata": {},
     "execution_count": 50
    }
   ],
   "source": [
    "from math import log\n",
    "from itertools import chain, cycle\n",
    "\n",
    "def get_mutual_information(joint_distribution, x_marginal, y_marginal, base=2):\n",
    "    return sum(\n",
    "        p_xy * log(p_xy / (p_x * p_y), base)\n",
    "        for p_xy, p_x, p_y in zip(\n",
    "            chain.from_iterable(joint_distribution),\n",
    "            cycle(x_marginal),\n",
    "            cycle(y_marginal)\n",
    "        )\n",
    "        if p_xy > 0\n",
    "    )\n",
    "\n",
    "mutual_info = get_mutual_information(joint_distribution, x_marginal, y_marginal)\n",
    "f'I(X;Y) = {mutual_info}'"
   ]
  }
 ]
}